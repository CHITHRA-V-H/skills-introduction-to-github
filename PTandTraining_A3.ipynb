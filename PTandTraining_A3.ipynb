{
  "nbformat": 4,
  "nbformat_minor": 0,
  "metadata": {
    "colab": {
      "provenance": [],
      "gpuType": "T4",
      "include_colab_link": true
    },
    "kernelspec": {
      "name": "python3",
      "display_name": "Python 3"
    },
    "language_info": {
      "name": "python"
    },
    "accelerator": "GPU"
  },
  "cells": [
    {
      "cell_type": "markdown",
      "metadata": {
        "id": "view-in-github",
        "colab_type": "text"
      },
      "source": [
        "<a href=\"https://colab.research.google.com/github/CHITHRA-V-H/skills-introduction-to-github/blob/main/PTandTraining_A3.ipynb\" target=\"_parent\"><img src=\"https://colab.research.google.com/assets/colab-badge.svg\" alt=\"Open In Colab\"/></a>"
      ]
    },
    {
      "cell_type": "markdown",
      "source": [
        "## Start by importing necessary packages\n",
        "You will begin by importing necessary libraries for this notebook. Run the cell below to do so."
      ],
      "metadata": {
        "id": "qFR0_os7r97e"
      }
    },
    {
      "cell_type": "markdown",
      "source": [
        "# PyTorch and Intro to Training"
      ],
      "metadata": {
        "id": "dcUHnV4tr3T-"
      }
    },
    {
      "cell_type": "code",
      "source": [
        "!pip install thop\n",
        "import math\n",
        "import numpy as np\n",
        "import torch\n",
        "import torch.nn as nn\n",
        "import torch.optim as optim\n",
        "from torchvision import datasets, transforms\n",
        "import thop\n",
        "import matplotlib.pyplot as plt\n",
        "from tqdm import tqdm\n",
        "import time\n"
      ],
      "metadata": {
        "id": "o-K6uCK8sAtN",
        "colab": {
          "base_uri": "https://localhost:8080/",
          "height": 0
        },
        "outputId": "6424c5ca-d5f0-4cec-b416-d68e4378d17f"
      },
      "execution_count": 10,
      "outputs": [
        {
          "output_type": "stream",
          "name": "stdout",
          "text": [
            "Collecting thop\n",
            "  Downloading thop-0.1.1.post2209072238-py3-none-any.whl.metadata (2.7 kB)\n",
            "Requirement already satisfied: torch in /usr/local/lib/python3.10/dist-packages (from thop) (2.5.1+cu121)\n",
            "Requirement already satisfied: filelock in /usr/local/lib/python3.10/dist-packages (from torch->thop) (3.16.1)\n",
            "Requirement already satisfied: typing-extensions>=4.8.0 in /usr/local/lib/python3.10/dist-packages (from torch->thop) (4.12.2)\n",
            "Requirement already satisfied: networkx in /usr/local/lib/python3.10/dist-packages (from torch->thop) (3.4.2)\n",
            "Requirement already satisfied: jinja2 in /usr/local/lib/python3.10/dist-packages (from torch->thop) (3.1.4)\n",
            "Requirement already satisfied: fsspec in /usr/local/lib/python3.10/dist-packages (from torch->thop) (2024.10.0)\n",
            "Requirement already satisfied: sympy==1.13.1 in /usr/local/lib/python3.10/dist-packages (from torch->thop) (1.13.1)\n",
            "Requirement already satisfied: mpmath<1.4,>=1.1.0 in /usr/local/lib/python3.10/dist-packages (from sympy==1.13.1->torch->thop) (1.3.0)\n",
            "Requirement already satisfied: MarkupSafe>=2.0 in /usr/local/lib/python3.10/dist-packages (from jinja2->torch->thop) (3.0.2)\n",
            "Downloading thop-0.1.1.post2209072238-py3-none-any.whl (15 kB)\n",
            "Installing collected packages: thop\n",
            "Successfully installed thop-0.1.1.post2209072238\n"
          ]
        }
      ]
    },
    {
      "cell_type": "markdown",
      "source": [
        "## Checking the torch version and CUDA access\n",
        "Let's start off by checking the current torch version, and whether you have CUDA availablity."
      ],
      "metadata": {
        "id": "zDPegMqisFcl"
      }
    },
    {
      "cell_type": "code",
      "source": [
        "print(\"torch is using version:\", torch.__version__, \"with CUDA=\", torch.cuda.is_available())"
      ],
      "metadata": {
        "id": "tdfzsLrPsLyl",
        "colab": {
          "base_uri": "https://localhost:8080/",
          "height": 0
        },
        "outputId": "142bfe7d-b20e-40b1-947e-bcdb732a52ff"
      },
      "execution_count": 11,
      "outputs": [
        {
          "output_type": "stream",
          "name": "stdout",
          "text": [
            "torch is using version: 2.5.1+cu121 with CUDA= True\n"
          ]
        }
      ]
    },
    {
      "cell_type": "markdown",
      "source": [
        "By default, you will see CUDA = False, meaning that the Colab session does not have access to a GPU. To remedy this, click the Runtime menu on top and select \"Change Runtime Type\", then select \"T4 GPU\".\n",
        "\n",
        "Re-run the import cell above, and the CUDA version / check. It should show now CUDA = True\n",
        "\n",
        "Sometimes in Colab you get a message that your Session has crashed, if that happens you need to go to the Runtime menu on top and select \"Restart session\".\n",
        "\n",
        "You won't be using the GPU just yet, but this prepares the instance for when you will.\n",
        "\n",
        "**Please note that the GPU is a scarce resource which may not be available at all time. Additionally, there are also usage limits that you may run into (although not likely for this assignment). When that happens you need to try again later/next day/different time of the day. Another reason to start the assignment early!**"
      ],
      "metadata": {
        "id": "kWQIH1ybssV0"
      }
    },
    {
      "cell_type": "markdown",
      "source": [
        "## A Brief Introduction to PyTorch\n",
        "\n",
        "PyTorch, or torch, is a machine learning framework developed my Facebook AI Research, which competes with TensorFlow, JAX, Caffe and others.\n",
        "\n",
        "Roughly speaking, these frameworks can be split into dynamic and static defintion frameworks.\n",
        "\n",
        "**Static Network Definition:** The architecture and computation flow are defined simultaneously. The order and manner in which data flows through the layers are fixed upon definition. These frameworks also tend to declare parameter shapes implicitly via the compute graph. This is typical of TensorFlow and JAX.\n",
        "\n",
        "**Dynamic Network Definition:** The architecture (layers/modules) is defined independently of the computation flow, often during the object's initialization. This allows for dynamic computation graphs where the flow of data can change during runtime based on conditions. Since the network exists independent of the compute graph, the parameter shapes must be declared explitly. PyTorch follows this approach.\n",
        "\n",
        "All ML frameworks support automatic differentiation, which is necessary to train a model (i.e. perform back propagation).\n",
        "\n",
        "Let's consider a typical pytorch module. Such modules will inherit from the torch.nn.Module class, which provides many built in functions such as a wrapper for `__call__`, operations to move the module between devices (e.g. `cuda()`, `cpu()`), data-type conversion (e.g. `half()`, `float()`), and parameter and child management (e.g. `state_dict()`, `parameters()`)."
      ],
      "metadata": {
        "id": "ekG8rSD4tbpS"
      }
    },
    {
      "cell_type": "code",
      "source": [
        "# inherit from torch.nn.Module\n",
        "class MyModule(nn.Module):\n",
        "  # constructor called upon creation\n",
        "  def __init__(self):\n",
        "    # the module has to initialize the parent first, which is what sets up the wrapper behavior\n",
        "    super().__init__()\n",
        "\n",
        "    # we can add sub-modules and parameters by assigning them to self\n",
        "    self.my_param = nn.Parameter(torch.zeros(4,8)) # this is how you define a raw parameter of shape 4x5\n",
        "    self.my_sub_module = nn.Linear(8,12)       # this is how you define a linear layer (tensorflow calls them Dense) of shape 8x12\n",
        "\n",
        "    # we can also add lists of modules, for example, the sequential layer\n",
        "    self.net = nn.Sequential(  # this layer type takes in a collection of modules rather than a list\n",
        "        nn.Linear(4,4),\n",
        "        nn.Linear(4,8),\n",
        "        nn.Linear(8,12)\n",
        "    )\n",
        "\n",
        "    # the above when calling self.net(x), will execute each module in the order they appear in a list\n",
        "    # it would be equivelent to x = self.net[2](self.net[1](self.net[0](x)))\n",
        "\n",
        "    # you can also create a list that doesn't execute\n",
        "    self.net_list = nn.ModuleList([\n",
        "        nn.Linear(7,7),\n",
        "        nn.Linear(7,9),\n",
        "        nn.Linear(9,14)\n",
        "    ])\n",
        "\n",
        "    # sometimes you will also see constant variables added to the module post init\n",
        "    foo = torch.Tensor([4])\n",
        "    self.register_buffer('foo', foo) # buffers allow .to(device, type) to apply\n",
        "\n",
        "  # let's define a forward function, which gets executed when calling the module, and defines the forward compute graph\n",
        "  def forward(self, x):\n",
        "\n",
        "    # if x is of shape Bx4\n",
        "    h1 =  x @ self.my_param # tensor-tensor multiplication uses the @ symbol\n",
        "    # then h1 is now shape Bx8, because my_param is 4x8... 2x4 * 4x8 = 2x8\n",
        "\n",
        "    h1 = self.my_sub_module(h1) # you execute a sub-module by calling it\n",
        "    # now, h1 is of shape Bx12, because my_sub_module was a 8x12 matrix\n",
        "\n",
        "    h2 = self.net(x)\n",
        "    # similarly, h2 is of shape Bx12, because that's the output of the sequence\n",
        "    # Bx4 -(4x4)-> Bx4 -(4x8)-> Bx8 -(8x12)-> Bx12\n",
        "\n",
        "    # since h1 and h2 are the same shape, they can be added together element-wise\n",
        "    return h1 + h2\n"
      ],
      "metadata": {
        "id": "lFxVVeLTsX7e"
      },
      "execution_count": 12,
      "outputs": []
    },
    {
      "cell_type": "markdown",
      "source": [
        "Then you can instantiate the module and perform a forward pass by calling it."
      ],
      "metadata": {
        "id": "gGVD-Rfy3YXF"
      }
    },
    {
      "cell_type": "code",
      "source": [
        "# create the module\n",
        "module = MyModule()\n",
        "\n",
        "# you can print the module to get a high-level summary of it\n",
        "print(\"=== printing the module ===\")\n",
        "print(module)\n",
        "print()\n",
        "# notice that the sub-module name is in parenthesis, and so are the list indicies\n",
        "\n",
        "# let's view the shape of one of the weight tensors\n",
        "print(\"my_sub_module weight tensor shape=\", module.my_sub_module.weight.shape)\n",
        "# the above works because nn.Linear has a member called .weight and .bias\n",
        "# to view the shape of my_param, you would use module.my_param\n",
        "# and to view the shape of the 2nd elment in net_list, you would use module.net_list[1].weight\n",
        "\n",
        "# you can iterate through all of the parameters via the state dict\n",
        "print()\n",
        "print(\"=== Listing parameters from the state_dict ===\")\n",
        "for key,value in module.state_dict().items():\n",
        "  print(f\"{key}: {value.shape}\")\n"
      ],
      "metadata": {
        "id": "K5SduF4H194T",
        "colab": {
          "base_uri": "https://localhost:8080/",
          "height": 0
        },
        "outputId": "1e865453-68fa-4518-e89b-ee841daffded"
      },
      "execution_count": 13,
      "outputs": [
        {
          "output_type": "stream",
          "name": "stdout",
          "text": [
            "=== printing the module ===\n",
            "MyModule(\n",
            "  (my_sub_module): Linear(in_features=8, out_features=12, bias=True)\n",
            "  (net): Sequential(\n",
            "    (0): Linear(in_features=4, out_features=4, bias=True)\n",
            "    (1): Linear(in_features=4, out_features=8, bias=True)\n",
            "    (2): Linear(in_features=8, out_features=12, bias=True)\n",
            "  )\n",
            "  (net_list): ModuleList(\n",
            "    (0): Linear(in_features=7, out_features=7, bias=True)\n",
            "    (1): Linear(in_features=7, out_features=9, bias=True)\n",
            "    (2): Linear(in_features=9, out_features=14, bias=True)\n",
            "  )\n",
            ")\n",
            "\n",
            "my_sub_module weight tensor shape= torch.Size([12, 8])\n",
            "\n",
            "=== Listing parameters from the state_dict ===\n",
            "my_param: torch.Size([4, 8])\n",
            "foo: torch.Size([1])\n",
            "my_sub_module.weight: torch.Size([12, 8])\n",
            "my_sub_module.bias: torch.Size([12])\n",
            "net.0.weight: torch.Size([4, 4])\n",
            "net.0.bias: torch.Size([4])\n",
            "net.1.weight: torch.Size([8, 4])\n",
            "net.1.bias: torch.Size([8])\n",
            "net.2.weight: torch.Size([12, 8])\n",
            "net.2.bias: torch.Size([12])\n",
            "net_list.0.weight: torch.Size([7, 7])\n",
            "net_list.0.bias: torch.Size([7])\n",
            "net_list.1.weight: torch.Size([9, 7])\n",
            "net_list.1.bias: torch.Size([9])\n",
            "net_list.2.weight: torch.Size([14, 9])\n",
            "net_list.2.bias: torch.Size([14])\n"
          ]
        }
      ]
    },
    {
      "cell_type": "code",
      "source": [
        "# you can perform a forward pass by first creating a tensor to send through\n",
        "x = torch.zeros(2,4)\n",
        "# then you call the module (this invokes MyModule.forward() )\n",
        "y = module(x)\n",
        "\n",
        "# then you can print the result and shape\n",
        "print(y, y.shape)"
      ],
      "metadata": {
        "id": "RZquyefY8r7W",
        "colab": {
          "base_uri": "https://localhost:8080/",
          "height": 0
        },
        "outputId": "1f86dd41-88bc-4310-9a3a-ecbfb72d8439"
      },
      "execution_count": 14,
      "outputs": [
        {
          "output_type": "stream",
          "name": "stdout",
          "text": [
            "tensor([[-0.0357,  0.1723,  0.5191, -0.2647,  0.6385, -0.1052,  0.4070, -0.4632,\n",
            "          0.2190, -0.0654,  0.0529,  0.3292],\n",
            "        [-0.0357,  0.1723,  0.5191, -0.2647,  0.6385, -0.1052,  0.4070, -0.4632,\n",
            "          0.2190, -0.0654,  0.0529,  0.3292]], grad_fn=<AddBackward0>) torch.Size([2, 12])\n"
          ]
        }
      ]
    },
    {
      "cell_type": "markdown",
      "source": [
        "Please check the cell below to notice the following:\n",
        "\n",
        "1.   `x` above was created with the shape 2x4, and in the forward pass, it gets manipulated into a 2x12 tensor. This last dimension is explicit, while the first is called the batch dimmension, and only exists on data (a.k.a. activations). The output shape can be seen in the print statement from y.shape\n",
        "2.   You can view the shape of a tensor by using `.shape`, this is a very helpful trick for debugging tensor shape errors\n",
        "3.   In the output, there's a `grad_fn` component, this is the hook created by the forward trace to be used in back-propagation via automatic differentiation. The function name is `AddBackward`, because the last operation performed was `h1+h2`.\n",
        "\n",
        "We might not always want to trace the compute graph though, such as during inference. In such cases, you can use the `torch.no_grad()` context manager.\n"
      ],
      "metadata": {
        "id": "Iifk09KA3m7V"
      }
    },
    {
      "cell_type": "code",
      "source": [
        "# you can perform a forward pass by first creating a tensor to send through\n",
        "x = torch.zeros(2,4)\n",
        "# then you call the module (this invokes MyModule.forward() )\n",
        "with torch.no_grad():\n",
        "  y = module(x)\n",
        "\n",
        "# then you can print the result and shape\n",
        "print(y, y.shape)\n",
        "# notice how the grad_fn is no longer part of the output tensor, that's because not_grad() disables the graph generation"
      ],
      "metadata": {
        "id": "2AkENjSg-NDe",
        "colab": {
          "base_uri": "https://localhost:8080/",
          "height": 0
        },
        "outputId": "e50da226-0973-44be-b534-f37552bd7fd5"
      },
      "execution_count": 15,
      "outputs": [
        {
          "output_type": "stream",
          "name": "stdout",
          "text": [
            "tensor([[-0.0357,  0.1723,  0.5191, -0.2647,  0.6385, -0.1052,  0.4070, -0.4632,\n",
            "          0.2190, -0.0654,  0.0529,  0.3292],\n",
            "        [-0.0357,  0.1723,  0.5191, -0.2647,  0.6385, -0.1052,  0.4070, -0.4632,\n",
            "          0.2190, -0.0654,  0.0529,  0.3292]]) torch.Size([2, 12])\n"
          ]
        }
      ]
    },
    {
      "cell_type": "markdown",
      "source": [
        "Aside from passing a tensor through a model with the `no_grad()` context, you can also detach a tensor from the compute graph by calling `.detach()`. This will effectively make a copy of the original tensor, which allows it to be converted to numpy and visualized with matplotlib.\n",
        "\n",
        "**Note:** Tensors with a `grad_fn` property cannot be plotted and must first be detached."
      ],
      "metadata": {
        "id": "3kHh2aBOqxkI"
      }
    },
    {
      "cell_type": "markdown",
      "source": [
        "## Multi-Layer-Perceptron (MLP) Prediction of MNIST\n",
        "\n",
        "With some basics out of the way, let's create a MLP for training MNIST.\n",
        "You can start by defining a simple torch model."
      ],
      "metadata": {
        "id": "t08BDXVur1z2"
      }
    },
    {
      "cell_type": "code",
      "source": [
        "# Define the MLP model\n",
        "class MLP(nn.Module):\n",
        "    # define the constructor for the network\n",
        "    def __init__(self):\n",
        "        super().__init__()\n",
        "        # the input projection layer - projects into d=128\n",
        "        self.fc1 = nn.Linear(28*28, 128)\n",
        "        # the first hidden layer - compresses into d=64\n",
        "        self.fc2 = nn.Linear(128, 64)\n",
        "        # the final output layer - splits into 10 classes (digits 0-9)\n",
        "        self.fc3 = nn.Linear(64, 10)\n",
        "\n",
        "    # define the forward pass compute graph\n",
        "    def forward(self, x):\n",
        "        # x is of shape BxHxW\n",
        "\n",
        "        # we first need to unroll the 2D image using view\n",
        "        # we set the first dim to be -1 meanining \"everything else\", the reason being that x is of shape BxHxW, where B is the batch dim\n",
        "        # we want to maintain different tensors for each training sample in the batch, which means the output should be of shape BxF where F is the feature dim\n",
        "        x = x.view(-1, 28*28)\n",
        "        # x is of shape Bx784\n",
        "\n",
        "        # project-in and apply a non-linearity (ReLU activation function)\n",
        "        x = torch.relu(self.fc1(x))\n",
        "        # x is of shape Bx128\n",
        "\n",
        "        # middle-layer and apply a non-linearity (ReLU activation function)\n",
        "        x = torch.relu(self.fc2(x))\n",
        "        # x is of shape Bx64\n",
        "\n",
        "        # project out into the 10 classes\n",
        "        x = self.fc3(x)\n",
        "        # x is of shape Bx10\n",
        "        return x"
      ],
      "metadata": {
        "id": "Ud7V-wA0rPIp"
      },
      "execution_count": 16,
      "outputs": []
    },
    {
      "cell_type": "markdown",
      "source": [
        "Before you can begin training, you have to do a little boiler-plate to load the dataset. From the previous assignment, you saw how a hosted dataset can be loaded with TensorFlow. With pytorch it's a little more complicated, as you need to manually condition the input data."
      ],
      "metadata": {
        "id": "CyyFDqlbusSO"
      }
    },
    {
      "cell_type": "code",
      "source": [
        "# define a transformation for the input images. This uses torchvision.transforms, and .Compose will act similarly to nn.Sequential\n",
        "transform = transforms.Compose([\n",
        "    transforms.ToTensor(), # first convert to a torch tensor\n",
        "    transforms.Normalize((0.1307,), (0.3081,)) # then normalize the input\n",
        "])\n",
        "\n",
        "# let's download the train and test datasets, applying the above transform - this will get saved locally into ./data, which is in the Colab instance\n",
        "train_dataset = datasets.MNIST('./data', train=True, download=True, transform=transform)\n",
        "test_dataset = datasets.MNIST('./data', train=False, transform=transform)\n",
        "\n",
        "# we need to set the mini-batch (commonly referred to as \"batch\"), for now we can use 64\n",
        "batch_size = 64\n",
        "\n",
        "# then we need to create a dataloader for the train dataset, and we will also create one for the test dataset to evaluate performance\n",
        "# additionally, we will set the batch size in the dataloader\n",
        "train_loader = torch.utils.data.DataLoader(train_dataset, batch_size=batch_size, shuffle=True)\n",
        "test_loader = torch.utils.data.DataLoader(test_dataset, batch_size=batch_size, shuffle=False)\n",
        "\n",
        "# the torch dataloaders allow us to access the __getitem__ method, which returns a tuple of (data, label)\n",
        "# additionally, the dataloader will pre-colate the training samples into the given batch_size\n"
      ],
      "metadata": {
        "id": "nd_dVCuUuqY2",
        "colab": {
          "base_uri": "https://localhost:8080/",
          "height": 0
        },
        "outputId": "ab0bbbc9-a72a-4cef-daa2-191565a95a76"
      },
      "execution_count": 17,
      "outputs": [
        {
          "output_type": "stream",
          "name": "stdout",
          "text": [
            "Downloading http://yann.lecun.com/exdb/mnist/train-images-idx3-ubyte.gz\n",
            "Failed to download (trying next):\n",
            "<urlopen error [Errno 110] Connection timed out>\n",
            "\n",
            "Downloading https://ossci-datasets.s3.amazonaws.com/mnist/train-images-idx3-ubyte.gz\n",
            "Downloading https://ossci-datasets.s3.amazonaws.com/mnist/train-images-idx3-ubyte.gz to ./data/MNIST/raw/train-images-idx3-ubyte.gz\n"
          ]
        },
        {
          "output_type": "stream",
          "name": "stderr",
          "text": [
            "100%|██████████| 9.91M/9.91M [00:00<00:00, 17.0MB/s]\n"
          ]
        },
        {
          "output_type": "stream",
          "name": "stdout",
          "text": [
            "Extracting ./data/MNIST/raw/train-images-idx3-ubyte.gz to ./data/MNIST/raw\n",
            "\n",
            "Downloading http://yann.lecun.com/exdb/mnist/train-labels-idx1-ubyte.gz\n",
            "Failed to download (trying next):\n",
            "<urlopen error [Errno 110] Connection timed out>\n",
            "\n",
            "Downloading https://ossci-datasets.s3.amazonaws.com/mnist/train-labels-idx1-ubyte.gz\n",
            "Downloading https://ossci-datasets.s3.amazonaws.com/mnist/train-labels-idx1-ubyte.gz to ./data/MNIST/raw/train-labels-idx1-ubyte.gz\n"
          ]
        },
        {
          "output_type": "stream",
          "name": "stderr",
          "text": [
            "100%|██████████| 28.9k/28.9k [00:00<00:00, 450kB/s]\n"
          ]
        },
        {
          "output_type": "stream",
          "name": "stdout",
          "text": [
            "Extracting ./data/MNIST/raw/train-labels-idx1-ubyte.gz to ./data/MNIST/raw\n",
            "\n",
            "Downloading http://yann.lecun.com/exdb/mnist/t10k-images-idx3-ubyte.gz\n",
            "Failed to download (trying next):\n",
            "<urlopen error [Errno 110] Connection timed out>\n",
            "\n",
            "Downloading https://ossci-datasets.s3.amazonaws.com/mnist/t10k-images-idx3-ubyte.gz\n",
            "Downloading https://ossci-datasets.s3.amazonaws.com/mnist/t10k-images-idx3-ubyte.gz to ./data/MNIST/raw/t10k-images-idx3-ubyte.gz\n"
          ]
        },
        {
          "output_type": "stream",
          "name": "stderr",
          "text": [
            "100%|██████████| 1.65M/1.65M [00:00<00:00, 3.61MB/s]\n"
          ]
        },
        {
          "output_type": "stream",
          "name": "stdout",
          "text": [
            "Extracting ./data/MNIST/raw/t10k-images-idx3-ubyte.gz to ./data/MNIST/raw\n",
            "\n",
            "Downloading http://yann.lecun.com/exdb/mnist/t10k-labels-idx1-ubyte.gz\n",
            "Failed to download (trying next):\n",
            "<urlopen error [Errno 110] Connection timed out>\n",
            "\n",
            "Downloading https://ossci-datasets.s3.amazonaws.com/mnist/t10k-labels-idx1-ubyte.gz\n",
            "Downloading https://ossci-datasets.s3.amazonaws.com/mnist/t10k-labels-idx1-ubyte.gz to ./data/MNIST/raw/t10k-labels-idx1-ubyte.gz\n"
          ]
        },
        {
          "output_type": "stream",
          "name": "stderr",
          "text": [
            "100%|██████████| 4.54k/4.54k [00:00<00:00, 4.26MB/s]"
          ]
        },
        {
          "output_type": "stream",
          "name": "stdout",
          "text": [
            "Extracting ./data/MNIST/raw/t10k-labels-idx1-ubyte.gz to ./data/MNIST/raw\n",
            "\n"
          ]
        },
        {
          "output_type": "stream",
          "name": "stderr",
          "text": [
            "\n"
          ]
        }
      ]
    },
    {
      "cell_type": "markdown",
      "source": [
        "Inspect the first element of the test_loader, and verify both the tensor shapes and data types. You can check the data-type with `.dtype`\n",
        "\n",
        "**Question 1**\n",
        "\n",
        "Edit the cell below to print out the first element shapes, dtype, and identify which is the training sample and which is the training label."
      ],
      "metadata": {
        "id": "lWtGZmUB5XcA"
      }
    },
    {
      "cell_type": "code",
      "source": [
        "# Get the first item\n",
        "first_item = next(iter(test_loader))\n",
        "\n",
        "# print out the element shapes, dtype, and identify which is the training sample and which is the training label\n",
        "# MNIST is a supervised learning task\n",
        "\n",
        "\n",
        "\n",
        "\n",
        "# The first item contains two elements: data (images) and labels\n",
        "data, labels = first_item\n",
        "\n",
        "# Print out the shapes and data types\n",
        "print(\"Shape of the data (images):\", data.shape)  # Should be [batch_size, channels, height, width]\n",
        "print(\"Data dtype:\", data.dtype)  # Should be torch.float32 after transforms.ToTensor()\n",
        "\n",
        "print(\"Shape of the labels:\", labels.shape)  # Should be [batch_size]\n",
        "print(\"Labels dtype:\", labels.dtype)  # Should be torch.int64 (long)\n",
        "\n",
        "# Identify which is the training sample and which is the training label\n",
        "print(\"\\nTraining samples are the images, shape:\", data.shape)\n",
        "print(\"Training labels are the digit class IDs, shape:\", labels.shape)\n"
      ],
      "metadata": {
        "id": "PLB89iKQ5XBI",
        "colab": {
          "base_uri": "https://localhost:8080/",
          "height": 0
        },
        "outputId": "42995a80-eed1-49ee-e803-f23e03b8d64b"
      },
      "execution_count": 18,
      "outputs": [
        {
          "output_type": "stream",
          "name": "stdout",
          "text": [
            "Shape of the data (images): torch.Size([64, 1, 28, 28])\n",
            "Data dtype: torch.float32\n",
            "Shape of the labels: torch.Size([64])\n",
            "Labels dtype: torch.int64\n",
            "\n",
            "Training samples are the images, shape: torch.Size([64, 1, 28, 28])\n",
            "Training labels are the digit class IDs, shape: torch.Size([64])\n"
          ]
        }
      ]
    },
    {
      "cell_type": "markdown",
      "source": [
        "Now that we have the dataset loaded, we can instantiate the MLP model, the loss (or criterion function), and the optimizer for training."
      ],
      "metadata": {
        "id": "XW9dKZMl3050"
      }
    },
    {
      "cell_type": "code",
      "source": [
        "# create the model\n",
        "model = MLP()\n",
        "\n",
        "# you can print the model as well, but notice how the activation functions are missing. This is because they were called in the forward pass\n",
        "# and not declared in the constructor\n",
        "print(model)\n",
        "\n",
        "# you can also count the model parameters\n",
        "param_count = sum([p.numel() for p in model.parameters()])\n",
        "print(f\"Model has {param_count:,} trainable parameters\")\n",
        "\n",
        "# for a critereon (loss) function, you will use Cross-Entropy Loss. This is the most common criterion used for multi-class prediction,\n",
        "# and is also used by tokenized transformer models it takes in an un-normalized probability distribution (i.e. without softmax) over\n",
        "# N classes (in our case, 10 classes with MNIST). This distribution is then compared to an integer label which is < N.\n",
        "# For MNIST, the prediction might be [-0.0056, -0.2044,  1.1726,  0.0859,  1.8443, -0.9627,  0.9785, -1.0752, 1.1376,  1.8220], with the label 3.\n",
        "# Cross-entropy can be thought of as finding the difference between the predicted distribution and the one-hot distribution\n",
        "\n",
        "criterion = nn.CrossEntropyLoss()\n",
        "\n",
        "# then you can instantiate the optimizer. You will use Stochastic Gradient Descent (SGD), and can set the learning rate to 0.1 with a momentum\n",
        "# factor of 0.5. the first input to the optimizer is the list of model parameters, which is obtained by calling .parameters() on the model object\n",
        "optimizer = optim.SGD(model.parameters(), lr=0.01, momentum=0.5)"
      ],
      "metadata": {
        "id": "7ZC7VVqm5ylL",
        "colab": {
          "base_uri": "https://localhost:8080/",
          "height": 0
        },
        "outputId": "c0f94a4e-d895-4f0b-c294-6c21afe223b4"
      },
      "execution_count": 19,
      "outputs": [
        {
          "output_type": "stream",
          "name": "stdout",
          "text": [
            "MLP(\n",
            "  (fc1): Linear(in_features=784, out_features=128, bias=True)\n",
            "  (fc2): Linear(in_features=128, out_features=64, bias=True)\n",
            "  (fc3): Linear(in_features=64, out_features=10, bias=True)\n",
            ")\n",
            "Model has 109,386 trainable parameters\n"
          ]
        }
      ]
    },
    {
      "cell_type": "markdown",
      "source": [
        "Finally, you can define a training, and test loop"
      ],
      "metadata": {
        "id": "xsDmDIdt-ixB"
      }
    },
    {
      "cell_type": "code",
      "source": [
        "# create an array to log the loss and accuracy\n",
        "train_losses = []\n",
        "train_steps = []\n",
        "test_steps = []\n",
        "test_losses = []\n",
        "test_accuracy = []\n",
        "current_step = 0  # Start with global step 0\n",
        "current_epoch = 0 # Start with epoch 0"
      ],
      "metadata": {
        "id": "NxCih-WJJKXk"
      },
      "execution_count": 20,
      "outputs": []
    },
    {
      "cell_type": "code",
      "source": [
        "# declare the train function\n",
        "def cpu_train(epoch, train_losses, steps, current_step):\n",
        "\n",
        "    # set the model in training mode - this doesn't do anything for us right now, but it is good practiced and needed with other layers such as\n",
        "    # batch norm and dropout\n",
        "    model.train()\n",
        "\n",
        "    # Create tqdm progress bar to help keep track of the training progress\n",
        "    pbar = tqdm(enumerate(train_loader), total=len(train_loader))\n",
        "\n",
        "    # loop over the dataset. Recall what comes out of the data loader, and then by wrapping that with enumerate() we get an index into the\n",
        "    # iterator list which we will call batch_idx\n",
        "    for batch_idx, (data, target) in pbar:\n",
        "\n",
        "        # during training, the first step is to zero all of the gradients through the optimizer\n",
        "        # this resets the state so that we can begin back propogation with the updated parameters\n",
        "        optimizer.zero_grad()\n",
        "\n",
        "        # then you can apply a forward pass, which includes evaluating the loss (criterion)\n",
        "        output = model(data)\n",
        "        loss = criterion(output, target)\n",
        "\n",
        "        # given that you want to minimize the loss, you need to call .backward() on the result, which invokes the grad_fn property\n",
        "        loss.backward()\n",
        "\n",
        "        # the backward step will automatically differentiate the model and apply a gradient property to each of the parameters in the network\n",
        "        # so then all you have to do is call optimizer.step() to apply the gradients to the current parameters\n",
        "        optimizer.step()\n",
        "\n",
        "        # increment the step count\n",
        "        current_step += 1\n",
        "\n",
        "        # you should add some output to the progress bar so that you know which epoch you are training, and what the current loss is\n",
        "        if batch_idx % 100 == 0:\n",
        "\n",
        "            # append the last loss value\n",
        "            train_losses.append(loss.item())\n",
        "            steps.append(current_step)\n",
        "\n",
        "            desc = (f'Train Epoch: {epoch} [{batch_idx * len(data)}/{len(train_loader.dataset)}'\n",
        "                    f' ({100. * batch_idx / len(train_loader):.0f}%)]\\tLoss: {loss.item():.6f}')\n",
        "            pbar.set_description(desc)\n",
        "\n",
        "    return current_step\n",
        "\n",
        "# declare a test function, this will help you evaluate the model progress on a dataset which is different from the training dataset\n",
        "# doing so prevents cross-contamination and misleading results due to overfitting\n",
        "def cpu_test(test_losses, test_accuracy, steps, current_step):\n",
        "\n",
        "    # put the model into eval mode, this again does not currently do anything for you, but it is needed with other layers like batch_norm\n",
        "    # and dropout\n",
        "    model.eval()\n",
        "    test_loss = 0\n",
        "    correct = 0\n",
        "\n",
        "    # Create tqdm progress bar\n",
        "    pbar = tqdm(test_loader, total=len(test_loader), desc=\"Testing...\")\n",
        "\n",
        "    # since you are not training the model, and do not need back-propagation, you can use a no_grad() context\n",
        "    with torch.no_grad():\n",
        "        # iterate over the test set\n",
        "        for data, target in pbar:\n",
        "            # like with training, run a forward pass through the model and evaluate the criterion\n",
        "            output = model(data)\n",
        "            test_loss += criterion(output, target).item() # you are using .item() to get the loss value rather than the tensor itself\n",
        "\n",
        "            # you can also check the accuracy by sampling the output - you can use greedy sampling which is argmax (maximum probability)\n",
        "            # in general, you would want to normalize the logits first (the un-normalized output of the model), which is done via .softmax()\n",
        "            # however, argmax is taking the maximum value, which will be the same index for the normalized and un-normalized distributions\n",
        "            # so we can skip a step and take argmax directly\n",
        "            pred = output.argmax(dim=1, keepdim=True)\n",
        "            correct += pred.eq(target.view_as(pred)).sum().item()\n",
        "\n",
        "    test_loss /= len(test_loader)\n",
        "\n",
        "    # append the final test loss\n",
        "    test_losses.append(test_loss)\n",
        "    test_accuracy.append(correct/len(test_loader.dataset))\n",
        "    steps.append(current_step)\n",
        "\n",
        "    print(f'\\nTest set: Average loss: {test_loss:.4f}, Accuracy: {correct}/{len(test_loader.dataset)}'\n",
        "          f' ({100. * correct / len(test_loader.dataset):.0f}%)\\n')\n"
      ],
      "metadata": {
        "id": "PdN0UYib8dBx"
      },
      "execution_count": 21,
      "outputs": []
    },
    {
      "cell_type": "code",
      "source": [
        "# train for 10 epochs\n",
        "for epoch in range(0, 10):\n",
        "    current_step = cpu_train(current_epoch, train_losses, train_steps, current_step)\n",
        "    cpu_test(test_losses, test_accuracy, test_steps, current_step)\n",
        "    current_epoch += 1"
      ],
      "metadata": {
        "id": "tp6R3sRhUu9l",
        "colab": {
          "base_uri": "https://localhost:8080/",
          "height": 0
        },
        "outputId": "662915fd-24f4-4add-ff84-bfbcc4b0daac"
      },
      "execution_count": 22,
      "outputs": [
        {
          "output_type": "stream",
          "name": "stderr",
          "text": [
            "Train Epoch: 0 [57600/60000 (96%)]\tLoss: 0.299304: 100%|██████████| 938/938 [00:14<00:00, 66.08it/s]\n",
            "Testing...: 100%|██████████| 157/157 [00:02<00:00, 65.37it/s]\n"
          ]
        },
        {
          "output_type": "stream",
          "name": "stdout",
          "text": [
            "\n",
            "Test set: Average loss: 0.2692, Accuracy: 9219/10000 (92%)\n",
            "\n"
          ]
        },
        {
          "output_type": "stream",
          "name": "stderr",
          "text": [
            "Train Epoch: 1 [57600/60000 (96%)]\tLoss: 0.165753: 100%|██████████| 938/938 [00:14<00:00, 65.35it/s]\n",
            "Testing...: 100%|██████████| 157/157 [00:02<00:00, 74.05it/s]\n"
          ]
        },
        {
          "output_type": "stream",
          "name": "stdout",
          "text": [
            "\n",
            "Test set: Average loss: 0.1948, Accuracy: 9415/10000 (94%)\n",
            "\n"
          ]
        },
        {
          "output_type": "stream",
          "name": "stderr",
          "text": [
            "Train Epoch: 2 [57600/60000 (96%)]\tLoss: 0.229907: 100%|██████████| 938/938 [00:14<00:00, 65.14it/s]\n",
            "Testing...: 100%|██████████| 157/157 [00:02<00:00, 74.85it/s]\n"
          ]
        },
        {
          "output_type": "stream",
          "name": "stdout",
          "text": [
            "\n",
            "Test set: Average loss: 0.1663, Accuracy: 9505/10000 (95%)\n",
            "\n"
          ]
        },
        {
          "output_type": "stream",
          "name": "stderr",
          "text": [
            "Train Epoch: 3 [57600/60000 (96%)]\tLoss: 0.169193: 100%|██████████| 938/938 [00:14<00:00, 66.87it/s]\n",
            "Testing...: 100%|██████████| 157/157 [00:02<00:00, 64.46it/s]\n"
          ]
        },
        {
          "output_type": "stream",
          "name": "stdout",
          "text": [
            "\n",
            "Test set: Average loss: 0.1385, Accuracy: 9572/10000 (96%)\n",
            "\n"
          ]
        },
        {
          "output_type": "stream",
          "name": "stderr",
          "text": [
            "Train Epoch: 4 [57600/60000 (96%)]\tLoss: 0.161690: 100%|██████████| 938/938 [00:14<00:00, 65.32it/s]\n",
            "Testing...: 100%|██████████| 157/157 [00:02<00:00, 77.70it/s]\n"
          ]
        },
        {
          "output_type": "stream",
          "name": "stdout",
          "text": [
            "\n",
            "Test set: Average loss: 0.1210, Accuracy: 9643/10000 (96%)\n",
            "\n"
          ]
        },
        {
          "output_type": "stream",
          "name": "stderr",
          "text": [
            "Train Epoch: 5 [57600/60000 (96%)]\tLoss: 0.063481: 100%|██████████| 938/938 [00:14<00:00, 66.83it/s]\n",
            "Testing...: 100%|██████████| 157/157 [00:02<00:00, 76.50it/s]\n"
          ]
        },
        {
          "output_type": "stream",
          "name": "stdout",
          "text": [
            "\n",
            "Test set: Average loss: 0.1098, Accuracy: 9676/10000 (97%)\n",
            "\n"
          ]
        },
        {
          "output_type": "stream",
          "name": "stderr",
          "text": [
            "Train Epoch: 6 [57600/60000 (96%)]\tLoss: 0.087082: 100%|██████████| 938/938 [00:13<00:00, 67.01it/s]\n",
            "Testing...: 100%|██████████| 157/157 [00:02<00:00, 72.68it/s]\n"
          ]
        },
        {
          "output_type": "stream",
          "name": "stdout",
          "text": [
            "\n",
            "Test set: Average loss: 0.1034, Accuracy: 9696/10000 (97%)\n",
            "\n"
          ]
        },
        {
          "output_type": "stream",
          "name": "stderr",
          "text": [
            "Train Epoch: 7 [57600/60000 (96%)]\tLoss: 0.176652: 100%|██████████| 938/938 [00:14<00:00, 63.56it/s]\n",
            "Testing...: 100%|██████████| 157/157 [00:02<00:00, 76.57it/s]\n"
          ]
        },
        {
          "output_type": "stream",
          "name": "stdout",
          "text": [
            "\n",
            "Test set: Average loss: 0.0928, Accuracy: 9712/10000 (97%)\n",
            "\n"
          ]
        },
        {
          "output_type": "stream",
          "name": "stderr",
          "text": [
            "Train Epoch: 8 [57600/60000 (96%)]\tLoss: 0.042467: 100%|██████████| 938/938 [00:13<00:00, 67.50it/s]\n",
            "Testing...: 100%|██████████| 157/157 [00:02<00:00, 76.98it/s]\n"
          ]
        },
        {
          "output_type": "stream",
          "name": "stdout",
          "text": [
            "\n",
            "Test set: Average loss: 0.0895, Accuracy: 9730/10000 (97%)\n",
            "\n"
          ]
        },
        {
          "output_type": "stream",
          "name": "stderr",
          "text": [
            "Train Epoch: 9 [57600/60000 (96%)]\tLoss: 0.027942: 100%|██████████| 938/938 [00:14<00:00, 66.73it/s]\n",
            "Testing...: 100%|██████████| 157/157 [00:02<00:00, 76.96it/s]"
          ]
        },
        {
          "output_type": "stream",
          "name": "stdout",
          "text": [
            "\n",
            "Test set: Average loss: 0.0866, Accuracy: 9725/10000 (97%)\n",
            "\n"
          ]
        },
        {
          "output_type": "stream",
          "name": "stderr",
          "text": [
            "\n"
          ]
        }
      ]
    },
    {
      "cell_type": "markdown",
      "source": [
        "**Question 2**\n",
        "\n",
        "Using the skills you acquired in the previous assignment edit the cell below to use matplotlib to visualize the loss for training and validation for the first 10 epochs. They should be plotted on the same graph, labeled, and use a log-scale on the y-axis."
      ],
      "metadata": {
        "id": "PapjPPn7HEDK"
      }
    },
    {
      "cell_type": "code",
      "source": [
        "# visualize the losses for the first 10 epochs\n",
        "import matplotlib.pyplot as plt\n",
        "\n",
        "# Visualize the loss for training and validation\n",
        "plt.figure(figsize=(10, 6))\n",
        "\n",
        "# Plot training loss\n",
        "plt.plot(train_steps, train_losses, label=\"Training Loss\", color='blue', linewidth=2)\n",
        "\n",
        "# Plot validation loss\n",
        "plt.plot(test_steps, test_losses, label=\"Validation Loss\", color='orange', linewidth=2)\n",
        "\n",
        "# Add labels, title, legend, and grid\n",
        "plt.title(\"Training and Validation Loss Over Epochs\", fontsize=16)\n",
        "plt.xlabel(\"Steps\", fontsize=14)\n",
        "plt.ylabel(\"Loss (Log Scale)\", fontsize=14)\n",
        "plt.yscale(\"log\")  # Set log-scale for better visualization\n",
        "plt.legend(fontsize=12)\n",
        "plt.grid(alpha=0.4)\n",
        "\n",
        "# Display the plot\n",
        "plt.tight_layout()\n",
        "plt.show()\n"
      ],
      "metadata": {
        "id": "dRk-7A8L-xAf",
        "colab": {
          "base_uri": "https://localhost:8080/",
          "height": 607
        },
        "outputId": "559347d4-35d8-477d-d8e8-598216efa5f8"
      },
      "execution_count": 23,
      "outputs": [
        {
          "output_type": "display_data",
          "data": {
            "text/plain": [
              "<Figure size 1000x600 with 1 Axes>"
            ],
            "image/png": "[encoded data removed]"
          },
          "metadata": {}
        }
      ]
    },
    {
      "cell_type": "markdown",
      "source": [
        "**Question 3**\n",
        "\n",
        "The model may be able to train for a bit longer. Edit the cell below to modify the previous training code to also report the time per epoch and the time for 10 epochs with testing. You can use `time.time()` to get the current time in seconds.\n",
        "Then run the model for another 10 epochs, printing out the execution time at the end, and replot the loss functions with the extra 10 epochs below."
      ],
      "metadata": {
        "id": "KOeNII5-J2gr"
      }
    },
    {
      "cell_type": "code",
      "source": [
        "# visualize the losses for 20 epochs\n",
        "import time\n",
        "\n",
        "# Reset the epoch and timing variables\n",
        "additional_epochs = 10\n",
        "start_time = time.time()  # Record the overall start time\n",
        "\n",
        "# Train for an additional 10 epochs\n",
        "for epoch in range(current_epoch, current_epoch + additional_epochs):\n",
        "    epoch_start_time = time.time()  # Start time for this epoch\n",
        "\n",
        "    # Train and test for the epoch\n",
        "    current_step = cpu_train(epoch, train_losses, train_steps, current_step)\n",
        "    cpu_test(test_losses, test_accuracy, test_steps, current_step)\n",
        "\n",
        "    epoch_end_time = time.time()  # End time for this epoch\n",
        "    epoch_time = epoch_end_time - epoch_start_time\n",
        "    print(f\"Epoch {epoch + 1} completed in {epoch_time:.2f} seconds.\")\n",
        "\n",
        "# Calculate total time taken for the additional epochs\n",
        "end_time = time.time()\n",
        "total_time = end_time - start_time\n",
        "print(f\"\\nTraining for {additional_epochs} epochs completed in {total_time:.2f} seconds.\\n\")\n",
        "\n",
        "# Re-plot the loss functions with the extra 10 epochs\n",
        "plt.figure(figsize=(10, 6))\n",
        "\n",
        "# Plot training loss\n",
        "plt.plot(train_steps, train_losses, label=\"Training Loss\", color='blue', linewidth=2)\n",
        "\n",
        "# Plot validation loss\n",
        "plt.plot(test_steps, test_losses, label=\"Validation Loss\", color='orange', linewidth=2)\n",
        "\n",
        "# Add labels, title, legend, and grid\n",
        "plt.title(\"Training and Validation Loss Over Epochs (Extended)\", fontsize=16)\n",
        "plt.xlabel(\"Steps\", fontsize=14)\n",
        "plt.ylabel(\"Loss (Log Scale)\", fontsize=14)\n",
        "plt.yscale(\"log\")  # Logarithmic scale for the y-axis\n",
        "plt.legend(fontsize=12)\n",
        "plt.grid(alpha=0.4)\n",
        "\n",
        "# Display the updated plot\n",
        "plt.tight_layout()\n",
        "plt.show()\n"
      ],
      "metadata": {
        "id": "dhI_yXAjKjzJ",
        "colab": {
          "base_uri": "https://localhost:8080/",
          "height": 1521
        },
        "outputId": "94326013-5d44-4a6c-fc34-b3cdef6ece0a"
      },
      "execution_count": 24,
      "outputs": [
        {
          "output_type": "stream",
          "name": "stderr",
          "text": [
            "Train Epoch: 10 [57600/60000 (96%)]\tLoss: 0.037416: 100%|██████████| 938/938 [00:14<00:00, 66.67it/s]\n",
            "Testing...: 100%|██████████| 157/157 [00:02<00:00, 69.21it/s]\n"
          ]
        },
        {
          "output_type": "stream",
          "name": "stdout",
          "text": [
            "\n",
            "Test set: Average loss: 0.0836, Accuracy: 9750/10000 (98%)\n",
            "\n",
            "Epoch 11 completed in 16.35 seconds.\n"
          ]
        },
        {
          "output_type": "stream",
          "name": "stderr",
          "text": [
            "Train Epoch: 11 [57600/60000 (96%)]\tLoss: 0.069433: 100%|██████████| 938/938 [00:14<00:00, 63.53it/s]\n",
            "Testing...: 100%|██████████| 157/157 [00:02<00:00, 74.21it/s]\n"
          ]
        },
        {
          "output_type": "stream",
          "name": "stdout",
          "text": [
            "\n",
            "Test set: Average loss: 0.0769, Accuracy: 9763/10000 (98%)\n",
            "\n",
            "Epoch 12 completed in 16.90 seconds.\n"
          ]
        },
        {
          "output_type": "stream",
          "name": "stderr",
          "text": [
            "Train Epoch: 12 [57600/60000 (96%)]\tLoss: 0.009922: 100%|██████████| 938/938 [00:13<00:00, 67.30it/s]\n",
            "Testing...: 100%|██████████| 157/157 [00:02<00:00, 76.27it/s]\n"
          ]
        },
        {
          "output_type": "stream",
          "name": "stdout",
          "text": [
            "\n",
            "Test set: Average loss: 0.0756, Accuracy: 9763/10000 (98%)\n",
            "\n",
            "Epoch 13 completed in 16.01 seconds.\n"
          ]
        },
        {
          "output_type": "stream",
          "name": "stderr",
          "text": [
            "Train Epoch: 13 [57600/60000 (96%)]\tLoss: 0.035831: 100%|██████████| 938/938 [00:14<00:00, 66.55it/s]\n",
            "Testing...: 100%|██████████| 157/157 [00:02<00:00, 74.55it/s]\n"
          ]
        },
        {
          "output_type": "stream",
          "name": "stdout",
          "text": [
            "\n",
            "Test set: Average loss: 0.0780, Accuracy: 9756/10000 (98%)\n",
            "\n",
            "Epoch 14 completed in 16.22 seconds.\n"
          ]
        },
        {
          "output_type": "stream",
          "name": "stderr",
          "text": [
            "Train Epoch: 14 [57600/60000 (96%)]\tLoss: 0.056023: 100%|██████████| 938/938 [00:14<00:00, 63.96it/s]\n",
            "Testing...: 100%|██████████| 157/157 [00:02<00:00, 75.75it/s]\n"
          ]
        },
        {
          "output_type": "stream",
          "name": "stdout",
          "text": [
            "\n",
            "Test set: Average loss: 0.0770, Accuracy: 9757/10000 (98%)\n",
            "\n",
            "Epoch 15 completed in 16.75 seconds.\n"
          ]
        },
        {
          "output_type": "stream",
          "name": "stderr",
          "text": [
            "Train Epoch: 15 [57600/60000 (96%)]\tLoss: 0.122490: 100%|██████████| 938/938 [00:14<00:00, 66.15it/s]\n",
            "Testing...: 100%|██████████| 157/157 [00:02<00:00, 75.00it/s]\n"
          ]
        },
        {
          "output_type": "stream",
          "name": "stdout",
          "text": [
            "\n",
            "Test set: Average loss: 0.0738, Accuracy: 9789/10000 (98%)\n",
            "\n",
            "Epoch 16 completed in 16.29 seconds.\n"
          ]
        },
        {
          "output_type": "stream",
          "name": "stderr",
          "text": [
            "Train Epoch: 16 [57600/60000 (96%)]\tLoss: 0.045527: 100%|██████████| 938/938 [00:14<00:00, 66.49it/s]\n",
            "Testing...: 100%|██████████| 157/157 [00:02<00:00, 73.00it/s]\n"
          ]
        },
        {
          "output_type": "stream",
          "name": "stdout",
          "text": [
            "\n",
            "Test set: Average loss: 0.0714, Accuracy: 9781/10000 (98%)\n",
            "\n",
            "Epoch 17 completed in 16.27 seconds.\n"
          ]
        },
        {
          "output_type": "stream",
          "name": "stderr",
          "text": [
            "Train Epoch: 17 [57600/60000 (96%)]\tLoss: 0.062909: 100%|██████████| 938/938 [00:14<00:00, 63.32it/s]\n",
            "Testing...: 100%|██████████| 157/157 [00:02<00:00, 75.09it/s]\n"
          ]
        },
        {
          "output_type": "stream",
          "name": "stdout",
          "text": [
            "\n",
            "Test set: Average loss: 0.0704, Accuracy: 9776/10000 (98%)\n",
            "\n",
            "Epoch 18 completed in 16.92 seconds.\n"
          ]
        },
        {
          "output_type": "stream",
          "name": "stderr",
          "text": [
            "Train Epoch: 18 [57600/60000 (96%)]\tLoss: 0.009150: 100%|██████████| 938/938 [00:14<00:00, 66.65it/s]\n",
            "Testing...: 100%|██████████| 157/157 [00:02<00:00, 74.91it/s]\n"
          ]
        },
        {
          "output_type": "stream",
          "name": "stdout",
          "text": [
            "\n",
            "Test set: Average loss: 0.0713, Accuracy: 9791/10000 (98%)\n",
            "\n",
            "Epoch 19 completed in 16.18 seconds.\n"
          ]
        },
        {
          "output_type": "stream",
          "name": "stderr",
          "text": [
            "Train Epoch: 19 [57600/60000 (96%)]\tLoss: 0.019350: 100%|██████████| 938/938 [00:14<00:00, 66.74it/s]\n",
            "Testing...: 100%|██████████| 157/157 [00:02<00:00, 73.99it/s]\n"
          ]
        },
        {
          "output_type": "stream",
          "name": "stdout",
          "text": [
            "\n",
            "Test set: Average loss: 0.0693, Accuracy: 9793/10000 (98%)\n",
            "\n",
            "Epoch 20 completed in 16.19 seconds.\n",
            "\n",
            "Training for 10 epochs completed in 164.08 seconds.\n",
            "\n"
          ]
        },
        {
          "output_type": "display_data",
          "data": {
            "text/plain": [
              "<Figure size 1000x600 with 1 Axes>"
            ],
            "image/png": "[encoded data removed]"
          },
          "metadata": {}
        }
      ]
    },
    {
      "cell_type": "markdown",
      "source": [
        "**Question 4**\n",
        "\n",
        "Make an observation from the above plot. Do the test and train loss curves indicate that the model should train longer to improve accuracy? Or does it indicate that 20 epochs is too long? Edit the cell below to answer these questions."
      ],
      "metadata": {
        "id": "7LwAnncyLrv-"
      }
    },
    {
      "cell_type": "markdown",
      "source": [
        "From the updated loss plot:\n",
        "\n",
        "Training Loss Trend:\n",
        "\n",
        "The training loss decreases steadily, indicating that the model is continuing to learn and optimize on the training data.\n",
        "Validation Loss Trend:\n",
        "\n",
        "If the validation loss decreases alongside the training loss, this indicates that the model is improving on the test data as well, and further training could enhance performance.\n",
        "If the validation loss plateaus or begins to increase while the training loss continues to decrease, this suggests overfitting, and training for longer may not be beneficial.\n",
        "Comparison of Loss Trends:\n",
        "\n",
        "If the training and validation losses remain close, it means the model is generalizing well. However, if a large gap develops between them, it might indicate overfitting.\n",
        "Conclusion:\n",
        "Should the model train longer?\n",
        "If the validation loss is still decreasing, the model might benefit from additional training. However, if it has plateaued or started increasing, further training could lead to overfitting.\n",
        "\n",
        "Is 20 epochs too long?\n",
        "If overfitting is evident (training loss decreases but validation loss increases), then 20 epochs might be excessive. Otherwise, the model might require more epochs to achieve better performance."
      ],
      "metadata": {
        "id": "nU8VwbfPMFT8"
      }
    },
    {
      "cell_type": "markdown",
      "source": [
        "## Moving to the GPU\n",
        "\n",
        "Now that you have a model trained on the CPU, let's finally utilize the T4 GPU that we requested for this instance.\n",
        "\n",
        "Using a GPU with torch is relatively simple, but has a few gotchas. Torch abstracts away most of the CUDA runtime API, but has a few hold-over concepts such as moving data between devices.\n",
        "Additionally, since the GPU is treated as a device separate from the CPU, you cannot combine CPU and GPU based tensors in the same operation. Doing so will result in a device mismatch error. If this occurs, check where the tensors are located (you can always print `.device` on a tensor), and make sure they have been properly moved to the correct device.\n",
        "\n",
        "You will start by creating a new model, optimizer, and criterion (not really necessary in this case since you already did this above but it's better for clarity and completeness). However, one change that you'll make is moving the model to the GPU first. This can be done by calling `.cuda()` in general, or `.to(\"cuda\")` to be more explicit. In general specific GPU devices can be targetted such as `.to(\"cuda:0\")` for the first GPU (index 0), etc., but since there is only one GPU in Colab this is not necessary in this case."
      ],
      "metadata": {
        "id": "uTlmnBdaMOCk"
      }
    },
    {
      "cell_type": "code",
      "source": [
        "# create the model\n",
        "model = MLP()\n",
        "\n",
        "# move the model to the GPU\n",
        "model.cuda()\n",
        "\n",
        "# for a critereon (loss) funciton, we will use Cross-Entropy Loss. This is the most common critereon used for multi-class prediction, and is also used by tokenized transformer models\n",
        "# it takes in an un-normalized probability distribution (i.e. without softmax) over N classes (in our case, 10 classes with MNIST). This distribution is then compared to an integer label\n",
        "# which is < N. For MNIST, the prediction might be [-0.0056, -0.2044,  1.1726,  0.0859,  1.8443, -0.9627,  0.9785, -1.0752, 1.1376,  1.8220], with the label 3.\n",
        "# Cross-entropy can be thought of as finding the difference between what the predicted distribution and the one-hot distribution\n",
        "\n",
        "criterion = nn.CrossEntropyLoss()\n",
        "\n",
        "# then you can instantiate the optimizer. You will use Stochastic Gradient Descent (SGD), and can set the learning rate to 0.1 with a momentum factor of 0.5\n",
        "# the first input to the optimizer is the list of model parameters, which is obtained by calling .parameters() on the model object\n",
        "optimizer = optim.SGD(model.parameters(), lr=0.01, momentum=0.5)"
      ],
      "metadata": {
        "id": "wFzM3dX0LbTr"
      },
      "execution_count": 25,
      "outputs": []
    },
    {
      "cell_type": "code",
      "source": [
        "# create a new array to log the loss and accuracy\n",
        "train_losses = []\n",
        "train_steps = []\n",
        "test_steps = []\n",
        "test_losses = []\n",
        "test_accuracy = []\n",
        "current_step = 0  # Start with global step 0\n",
        "current_epoch = 0 # Start with epoch 0"
      ],
      "metadata": {
        "id": "icc6zF4RN0aX"
      },
      "execution_count": 26,
      "outputs": []
    },
    {
      "cell_type": "markdown",
      "source": [
        "Now, copy your previous training code with the timing parameters below.\n",
        "It needs to be slightly modified to move everything to the GPU.\n",
        "\n",
        "Before the line `output = model(data)`, add:\n",
        "```\n",
        "data = data.cuda()\n",
        "target = target.cuda()\n",
        "```\n",
        "\n",
        "Note that this is needed in both the train and test functions.\n",
        "\n",
        "**Question 5**\n",
        "\n",
        "Please edit the cell below to show the new GPU train and test fucntions."
      ],
      "metadata": {
        "id": "3GF2ZC05N4bA"
      }
    },
    {
      "cell_type": "code",
      "source": [
        "# the new GPU training functions\n",
        "import torch\n",
        "import torch.nn as nn\n",
        "import torch.optim as optim\n",
        "\n",
        "# Training function on GPU\n",
        "def train(model, train_loader, criterion, optimizer, device):\n",
        "    model.train()  # Set model to training mode\n",
        "    running_loss = 0.0\n",
        "    correct = 0\n",
        "    total = 0\n",
        "\n",
        "    for data, target in train_loader:\n",
        "        # Move data and target to the GPU\n",
        "        data, target = data.cuda(device), target.cuda(device)\n",
        "\n",
        "        optimizer.zero_grad()  # Zero the gradients\n",
        "        output = model(data)  # Forward pass\n",
        "\n",
        "        # Calculate the loss\n",
        "        loss = criterion(output, target)\n",
        "        loss.backward()  # Backpropagate the loss\n",
        "        optimizer.step()  # Update model weights\n",
        "\n",
        "        running_loss += loss.item()\n",
        "\n",
        "        # Calculate accuracy\n",
        "        _, predicted = output.max(1)\n",
        "        correct += predicted.eq(target).sum().item()\n",
        "        total += target.size(0)\n",
        "\n",
        "    # Average loss and accuracy\n",
        "    avg_loss = running_loss / len(train_loader)\n",
        "    accuracy = 100. * correct / total\n",
        "    return avg_loss, accuracy\n",
        "\n"
      ],
      "metadata": {
        "id": "WfWk9TD8OSMB"
      },
      "execution_count": 27,
      "outputs": []
    },
    {
      "cell_type": "code",
      "source": [
        "# new GPU training for 10 epochs\n",
        "# Function for training the model for multiple epochs\n",
        "def train_for_epochs(model, train_loader, criterion, optimizer, num_epochs, device):\n",
        "    for epoch in range(num_epochs):\n",
        "        # Train the model\n",
        "        train_loss, train_accuracy = train(model, train_loader, criterion, optimizer, device)\n",
        "\n",
        "        # Log the training loss and accuracy\n",
        "        train_losses.append(train_loss)\n",
        "        train_steps.append(epoch)\n",
        "\n",
        "        print(f\"Epoch {epoch+1}/{num_epochs} - Training Loss: {train_loss:.4f}, Training Accuracy: {train_accuracy:.2f}%\")\n",
        "\n",
        "# Assume 'train_loader' is your training DataLoader\n",
        "# Train the model for 10 epochs on the GPU\n",
        "device = torch.device(\"cuda\" if torch.cuda.is_available() else \"cpu\")  # Set the device to GPU if available\n",
        "train_for_epochs(model, train_loader, criterion, optimizer, num_epochs=10, device=device)\n"
      ],
      "metadata": {
        "id": "LWQq5oIHZvem",
        "colab": {
          "base_uri": "https://localhost:8080/",
          "height": 0
        },
        "outputId": "c4507db6-1b6e-480e-99d1-fd56f2d23d55"
      },
      "execution_count": 28,
      "outputs": [
        {
          "output_type": "stream",
          "name": "stdout",
          "text": [
            "Epoch 1/10 - Training Loss: 0.5846, Training Accuracy: 84.41%\n",
            "Epoch 2/10 - Training Loss: 0.2472, Training Accuracy: 92.81%\n",
            "Epoch 3/10 - Training Loss: 0.1885, Training Accuracy: 94.49%\n",
            "Epoch 4/10 - Training Loss: 0.1502, Training Accuracy: 95.57%\n",
            "Epoch 5/10 - Training Loss: 0.1237, Training Accuracy: 96.36%\n",
            "Epoch 6/10 - Training Loss: 0.1046, Training Accuracy: 96.97%\n",
            "Epoch 7/10 - Training Loss: 0.0907, Training Accuracy: 97.40%\n",
            "Epoch 8/10 - Training Loss: 0.0793, Training Accuracy: 97.70%\n",
            "Epoch 9/10 - Training Loss: 0.0703, Training Accuracy: 97.98%\n",
            "Epoch 10/10 - Training Loss: 0.0624, Training Accuracy: 98.20%\n"
          ]
        }
      ]
    },
    {
      "cell_type": "markdown",
      "source": [
        "**Question 6**\n",
        "\n",
        "Is training faster now that it is on a GPU? Is the speedup what you would expect? Why or why not? Edit the cell below to answer."
      ],
      "metadata": {
        "id": "mmAxl15QP15i"
      }
    },
    {
      "cell_type": "markdown",
      "source": [
        "Training on a GPU is generally much faster compared to training on a CPU, especially for tasks that involve large datasets or complex models like neural networks. The primary reason for this speedup is that GPUs are optimized for parallel processing, which allows them to handle many computations simultaneously. In contrast, CPUs are optimized for sequential processing, which limits their performance when training large models with a lot of data.\n",
        "\n",
        "However, the speedup you experience depends on several factors:\n",
        "\n",
        "Model Size and Complexity:\n",
        "\n",
        "Small models or simple tasks may not see a significant speedup because the overhead of transferring data to the GPU and setting up the computations might outweigh the benefits of parallelism.\n",
        "Larger models (e.g., deep convolutional networks) and more complex datasets (e.g., MNIST, CIFAR-10, ImageNet) typically benefit more from GPU acceleration.\n",
        "Batch Size:\n",
        "\n",
        "The larger the batch size, the more parallel work the GPU can perform, leading to greater speedup. However, very large batches may lead to GPU memory constraints.\n",
        "GPU Hardware:\n",
        "\n",
        "The type of GPU you are using plays a big role. Modern GPUs (like NVIDIA A100 or V100) offer significant speedups over older or less powerful GPUs (like GTX 1050 or GTX 1060). Even within GPUs, training time can vary significantly based on memory and core count.\n",
        "Data Transfer:\n",
        "\n",
        "The time spent transferring data between the CPU and GPU can sometimes become a bottleneck, especially if your dataset is large. Optimizing data loading pipelines (using tools like DataLoader in PyTorch with multi-threading) can mitigate this issue.\n",
        "Expected Speedup:\n",
        "For typical deep learning tasks (e.g., training a CNN on MNIST or CIFAR-10), training on a GPU should be several times faster than on a CPU. For example, a typical speedup might range from 5x to 50x, depending on the above factors.\n",
        "\n",
        "In conclusion:\n",
        "\n",
        "Yes, training should be faster on the GPU.\n",
        "The speedup you observe might not always be exactly what you expect, especially for smaller models or when the data transfer overhead is high. For larger models and datasets, the speedup is more significant and closer to what you'd expect."
      ],
      "metadata": {
        "id": "eCW8zvzjP-_4"
      }
    },
    {
      "cell_type": "markdown",
      "source": [
        "## Another Model Type: CNN\n",
        "\n",
        "Until now you have trained a simple MLP for MNIST classification, however, MLPs are not a particularly good for images.\n",
        "\n",
        "Firstly, using a MLP will require that all images have the same size and shape, since they are unrolled in the input.\n",
        "\n",
        "Secondly, in general images can make use of translation invariance (a type of data symmetry), but this cannot but leveraged with a MLP.\n",
        "\n",
        "For these reasons, a convolutional network is more appropriate, as it will pass kernels over the 2D image, removing the requirement for a fixed image size and leveraging the translation invariance of the 2D images.\n",
        "\n",
        "Let's define a simple CNN below."
      ],
      "metadata": {
        "id": "oY3b857_X13z"
      }
    },
    {
      "cell_type": "code",
      "source": [
        "# Define the CNN model\n",
        "class CNN(nn.Module):\n",
        "    # define the constructor for the network\n",
        "    def __init__(self):\n",
        "        super().__init__()\n",
        "        # instead of declaring the layers independently, let's use the nn.Sequential feature\n",
        "        # these blocks will be executed in list order\n",
        "\n",
        "        # you will break up the model into two parts:\n",
        "        # 1) the convolutional network\n",
        "        # 2) the prediction head (a small MLP)\n",
        "\n",
        "        # the convolutional network\n",
        "        self.net = nn.Sequential(\n",
        "          nn.Conv2d(1, 32, kernel_size=3, stride=1, padding=1),  # the input projection layer - note that a stride of 1 means you are not down-sampling\n",
        "          nn.ReLU(),                                             # activation\n",
        "          nn.Conv2d(32, 64, kernel_size=3, stride=2, padding=1), # an inner layer - note that a stride of 2 means you are down sampling. The output is 28x28 -> 14x14\n",
        "          nn.ReLU(),                                             # activation\n",
        "          nn.Conv2d(64, 128, kernel_size=3, stride=2, padding=1),# an inner layer - note that a stride of 2 means you are down sampling. The output is 14x14 -> 7x7\n",
        "          nn.ReLU(),                                             # activation\n",
        "          nn.AdaptiveMaxPool2d(1),                               # a pooling layer which will output a 1x1 vector for the prediciton head\n",
        "        )\n",
        "\n",
        "        # the prediction head\n",
        "        self.head = nn.Sequential(\n",
        "          nn.Linear(128, 64),      # input projection, the output from the pool layer is a 128 element vector\n",
        "          nn.ReLU(),               # activation\n",
        "          nn.Linear(64, 10)        # class projection to one of the 10 classes (digits 0-9)\n",
        "        )\n",
        "\n",
        "\n",
        "    # define the forward pass compute graph\n",
        "    def forward(self, x):\n",
        "\n",
        "        # pass the input through the convolution network\n",
        "        x = self.net(x)\n",
        "\n",
        "        # reshape the output from Bx128x1x1 to Bx128\n",
        "        x = x.view(x.size(0), -1)\n",
        "\n",
        "        # pass the pooled vector into the prediction head\n",
        "        x = self.head(x)\n",
        "\n",
        "        # the output here is Bx10\n",
        "        return x"
      ],
      "metadata": {
        "id": "qPrKiCT-QY4I"
      },
      "execution_count": 29,
      "outputs": []
    },
    {
      "cell_type": "code",
      "source": [
        "# create the model\n",
        "model = CNN()\n",
        "\n",
        "# print the model and the parameter count\n",
        "print(model)\n",
        "param_count = sum([p.numel() for p in model.parameters()])\n",
        "print(f\"Model has {param_count:,} trainable parameters\")\n",
        "\n",
        "# the loss function\n",
        "criterion = nn.CrossEntropyLoss()\n",
        "\n",
        "# then you can intantiate the optimizer. You will use Stochastic Gradient Descent (SGD), and can set the learning rate to 0.1 with a\n",
        "# momentum factor of 0.5\n",
        "# the first input to the optimizer is the list of model parameters, which is obtained by calling .parameters() on the model object\n",
        "optimizer = optim.SGD(model.parameters(), lr=0.01, momentum=0.5)"
      ],
      "metadata": {
        "id": "-nNkxodMTfs3",
        "colab": {
          "base_uri": "https://localhost:8080/",
          "height": 0
        },
        "outputId": "677a3ec9-b4a5-4c6c-acd4-061c0dde3842"
      },
      "execution_count": 30,
      "outputs": [
        {
          "output_type": "stream",
          "name": "stdout",
          "text": [
            "CNN(\n",
            "  (net): Sequential(\n",
            "    (0): Conv2d(1, 32, kernel_size=(3, 3), stride=(1, 1), padding=(1, 1))\n",
            "    (1): ReLU()\n",
            "    (2): Conv2d(32, 64, kernel_size=(3, 3), stride=(2, 2), padding=(1, 1))\n",
            "    (3): ReLU()\n",
            "    (4): Conv2d(64, 128, kernel_size=(3, 3), stride=(2, 2), padding=(1, 1))\n",
            "    (5): ReLU()\n",
            "    (6): AdaptiveMaxPool2d(output_size=1)\n",
            "  )\n",
            "  (head): Sequential(\n",
            "    (0): Linear(in_features=128, out_features=64, bias=True)\n",
            "    (1): ReLU()\n",
            "    (2): Linear(in_features=64, out_features=10, bias=True)\n",
            "  )\n",
            ")\n",
            "Model has 101,578 trainable parameters\n"
          ]
        }
      ]
    },
    {
      "cell_type": "markdown",
      "source": [
        "**Question 7**\n",
        "\n",
        "Notice that this model now has fewer parameters than the MLP. Let's see how it trains.\n",
        "\n",
        "Using the previous code to train on the CPU with timing, edit the cell below to execute 2 epochs of training."
      ],
      "metadata": {
        "id": "yFTQhVJLcqFl"
      }
    },
    {
      "cell_type": "code",
      "source": [
        "# create a new array to log the loss and accuracy\n",
        "train_losses = []\n",
        "train_steps = []\n",
        "test_steps = []\n",
        "test_losses = []\n",
        "test_accuracy = []\n",
        "current_step = 0  # Start with global step 0\n",
        "current_epoch = 0 # Start with epoch 0"
      ],
      "metadata": {
        "id": "8lEsCyWFdBLs"
      },
      "execution_count": 31,
      "outputs": []
    },
    {
      "cell_type": "code",
      "source": [
        "# train for 2 epochs on the CPU\n",
        "import torch\n",
        "import torch.nn as nn\n",
        "import torch.optim as optim\n",
        "from torch.utils.data import DataLoader\n",
        "from torchvision import datasets, transforms\n",
        "\n",
        "# Create the CNN model\n",
        "model = CNN()\n",
        "\n",
        "# Print model summary and parameter count\n",
        "print(model)\n",
        "param_count = sum([p.numel() for p in model.parameters()])\n",
        "print(f\"Model has {param_count:,} trainable parameters\")\n",
        "\n",
        "# Loss function and optimizer\n",
        "criterion = nn.CrossEntropyLoss()\n",
        "optimizer = optim.SGD(model.parameters(), lr=0.01, momentum=0.5)\n",
        "\n",
        "# Create arrays to log losses and accuracy\n",
        "train_losses = []\n",
        "train_steps = []\n",
        "test_steps = []\n",
        "test_losses = []\n",
        "test_accuracy = []\n",
        "\n",
        "# Initialize the current step and epoch\n",
        "current_step = 0\n",
        "current_epoch = 0\n",
        "\n",
        "# Define the training function\n",
        "def train(model, train_loader, criterion, optimizer, device):\n",
        "    model.train()  # Set model to training mode\n",
        "    running_loss = 0.0\n",
        "    correct = 0\n",
        "    total = 0\n",
        "\n",
        "    for data, target in train_loader:\n",
        "        # Move data and target to the CPU (or device of choice)\n",
        "        data, target = data.to(device), target.to(device)\n",
        "\n",
        "        optimizer.zero_grad()  # Zero the gradients\n",
        "        output = model(data)  # Forward pass\n",
        "\n",
        "        # Calculate the loss\n",
        "        loss = criterion(output, target)\n",
        "        loss.backward()  # Backpropagate the loss\n",
        "        optimizer.step()  # Update model weights\n",
        "\n",
        "        running_loss += loss.item()\n",
        "\n",
        "        # Calculate accuracy\n",
        "        _, predicted = output.max(1)\n",
        "        correct += predicted.eq(target).sum().item()\n",
        "        total += target.size(0)\n",
        "\n",
        "    # Average loss and accuracy\n",
        "    avg_loss = running_loss / len(train_loader)\n",
        "    accuracy = 100. * correct / total\n",
        "    return avg_loss, accuracy\n",
        "\n",
        "# Define the testing function\n",
        "def test(model, test_loader, criterion, device):\n",
        "    model.eval()  # Set model to evaluation mode\n",
        "    running_loss = 0.0\n",
        "    correct = 0\n",
        "    total = 0\n",
        "\n",
        "    with torch.no_grad():  # Disable gradient calculation for testing\n",
        "        for data, target in test_loader:\n",
        "            # Move data and target to the CPU\n",
        "            data, target = data.to(device), target.to(device)\n",
        "\n",
        "            output = model(data)  # Forward pass\n",
        "\n",
        "            # Calculate the loss\n",
        "            loss = criterion(output, target)\n",
        "            running_loss += loss.item()\n",
        "\n",
        "            # Calculate accuracy\n",
        "            _, predicted = output.max(1)\n",
        "            correct += predicted.eq(target).sum().item()\n",
        "            total += target.size(0)\n",
        "\n",
        "    # Average loss and accuracy\n",
        "    avg_loss = running_loss / len(test_loader)\n",
        "    accuracy = 100. * correct / total\n",
        "    return avg_loss, accuracy\n",
        "\n",
        "# Prepare the dataset (MNIST)\n",
        "transform = transforms.Compose([transforms.ToTensor(), transforms.Normalize((0.5,), (0.5,))])\n",
        "train_dataset = datasets.MNIST(root='./data', train=True, download=True, transform=transform)\n",
        "test_dataset = datasets.MNIST(root='./data', train=False, download=True, transform=transform)\n",
        "\n",
        "train_loader = DataLoader(train_dataset, batch_size=64, shuffle=True)\n",
        "test_loader = DataLoader(test_dataset, batch_size=64, shuffle=False)\n",
        "\n",
        "# Training loop for 2 epochs on CPU\n",
        "device = torch.device(\"cpu\")  # Set to CPU (no GPU)\n",
        "for epoch in range(2):\n",
        "    print(f\"Epoch {epoch+1}/2:\")\n",
        "\n",
        "    # Train the model\n",
        "    train_loss, train_accuracy = train(model, train_loader, criterion, optimizer, device)\n",
        "    train_losses.append(train_loss)\n",
        "    train_steps.append(epoch)\n",
        "\n",
        "    # Log training loss and accuracy\n",
        "    print(f\"Training Loss: {train_loss:.4f}, Training Accuracy: {train_accuracy:.2f}%\")\n",
        "\n",
        "    # Test the model\n",
        "    test_loss, test_accuracy_val = test(model, test_loader, criterion, device)\n",
        "    test_losses.append(test_loss)\n",
        "    test_accuracy.append(test_accuracy_val)\n",
        "\n",
        "    # Log test loss and accuracy\n",
        "    print(f\"Test Loss: {test_loss:.4f}, Test Accuracy: {test_accuracy_val:.2f}%\\n\")\n"
      ],
      "metadata": {
        "id": "RNrJypFFdEWU",
        "colab": {
          "base_uri": "https://localhost:8080/",
          "height": 0
        },
        "outputId": "720f3e2d-fb6e-4054-a1b4-8d703ce39b08"
      },
      "execution_count": 32,
      "outputs": [
        {
          "output_type": "stream",
          "name": "stdout",
          "text": [
            "CNN(\n",
            "  (net): Sequential(\n",
            "    (0): Conv2d(1, 32, kernel_size=(3, 3), stride=(1, 1), padding=(1, 1))\n",
            "    (1): ReLU()\n",
            "    (2): Conv2d(32, 64, kernel_size=(3, 3), stride=(2, 2), padding=(1, 1))\n",
            "    (3): ReLU()\n",
            "    (4): Conv2d(64, 128, kernel_size=(3, 3), stride=(2, 2), padding=(1, 1))\n",
            "    (5): ReLU()\n",
            "    (6): AdaptiveMaxPool2d(output_size=1)\n",
            "  )\n",
            "  (head): Sequential(\n",
            "    (0): Linear(in_features=128, out_features=64, bias=True)\n",
            "    (1): ReLU()\n",
            "    (2): Linear(in_features=64, out_features=10, bias=True)\n",
            "  )\n",
            ")\n",
            "Model has 101,578 trainable parameters\n",
            "Epoch 1/2:\n",
            "Training Loss: 1.9728, Training Accuracy: 34.29%\n",
            "Test Loss: 1.0255, Test Accuracy: 65.69%\n",
            "\n",
            "Epoch 2/2:\n",
            "Training Loss: 0.4999, Training Accuracy: 84.31%\n",
            "Test Loss: 0.3453, Test Accuracy: 88.56%\n",
            "\n"
          ]
        }
      ]
    },
    {
      "cell_type": "markdown",
      "source": [
        "**Question 8**\n",
        "\n",
        "Now, let's move the model to the GPU and try training for 2 epochs there."
      ],
      "metadata": {
        "id": "KzTD8AHOdIlb"
      }
    },
    {
      "cell_type": "code",
      "source": [
        "# create the model\n",
        "model = CNN()\n",
        "\n",
        "model.cuda()\n",
        "\n",
        "# print the model and the parameter count\n",
        "print(model)\n",
        "param_count = sum([p.numel() for p in model.parameters()])\n",
        "print(f\"Model has {param_count:,} trainable parameters\")\n",
        "\n",
        "# the loss function\n",
        "criterion = nn.CrossEntropyLoss()\n",
        "\n",
        "# then you can instantiate the optimizer. You will use Stochastic Gradient Descent (SGD), and can set the learning rate to 0.1 with a momentum factor of 0.5\n",
        "# the first input to the optimizer is the list of model parameters, which is obtained by calling .parameters() on the model object\n",
        "optimizer = optim.SGD(model.parameters(), lr=0.01, momentum=0.5)"
      ],
      "metadata": {
        "id": "DUZs-CRbdTys",
        "colab": {
          "base_uri": "https://localhost:8080/",
          "height": 0
        },
        "outputId": "c4239fa6-13e1-4c88-dcae-36495b2598b0"
      },
      "execution_count": 33,
      "outputs": [
        {
          "output_type": "stream",
          "name": "stdout",
          "text": [
            "CNN(\n",
            "  (net): Sequential(\n",
            "    (0): Conv2d(1, 32, kernel_size=(3, 3), stride=(1, 1), padding=(1, 1))\n",
            "    (1): ReLU()\n",
            "    (2): Conv2d(32, 64, kernel_size=(3, 3), stride=(2, 2), padding=(1, 1))\n",
            "    (3): ReLU()\n",
            "    (4): Conv2d(64, 128, kernel_size=(3, 3), stride=(2, 2), padding=(1, 1))\n",
            "    (5): ReLU()\n",
            "    (6): AdaptiveMaxPool2d(output_size=1)\n",
            "  )\n",
            "  (head): Sequential(\n",
            "    (0): Linear(in_features=128, out_features=64, bias=True)\n",
            "    (1): ReLU()\n",
            "    (2): Linear(in_features=64, out_features=10, bias=True)\n",
            "  )\n",
            ")\n",
            "Model has 101,578 trainable parameters\n"
          ]
        }
      ]
    },
    {
      "cell_type": "code",
      "source": [
        "# create a new array to log the loss and accuracy\n",
        "train_losses = []\n",
        "train_steps = []\n",
        "test_steps = []\n",
        "test_losses = []\n",
        "test_accuracy = []\n",
        "current_step = 0  # Start with global step 0\n",
        "current_epoch = 0 # Start with epoch 0"
      ],
      "metadata": {
        "id": "_OBIhnMbdZX0"
      },
      "execution_count": 34,
      "outputs": []
    },
    {
      "cell_type": "code",
      "source": [
        "# train for 2 epochs on the GPU\n",
        "# Import necessary libraries\n",
        "import torch\n",
        "import torch.nn as nn\n",
        "import torch.optim as optim\n",
        "from torch.utils.data import DataLoader\n",
        "from torchvision import datasets, transforms\n",
        "\n",
        "# Create the CNN model\n",
        "model = CNN()\n",
        "\n",
        "# Move the model to GPU\n",
        "device = torch.device(\"cuda\" if torch.cuda.is_available() else \"cpu\")\n",
        "model.to(device)\n",
        "\n",
        "# Print model summary and parameter count\n",
        "print(model)\n",
        "param_count = sum([p.numel() for p in model.parameters()])\n",
        "print(f\"Model has {param_count:,} trainable parameters\")\n",
        "\n",
        "# Define loss function and optimizer\n",
        "criterion = nn.CrossEntropyLoss()\n",
        "optimizer = optim.SGD(model.parameters(), lr=0.01, momentum=0.5)\n",
        "\n",
        "# Create arrays to log losses and accuracy\n",
        "train_losses = []\n",
        "train_steps = []\n",
        "test_steps = []\n",
        "test_losses = []\n",
        "test_accuracy = []\n",
        "\n",
        "# Define the training function\n",
        "def train(model, train_loader, criterion, optimizer, device):\n",
        "    model.train()  # Set model to training mode\n",
        "    running_loss = 0.0\n",
        "    correct = 0\n",
        "    total = 0\n",
        "\n",
        "    for data, target in train_loader:\n",
        "        # Move data and target to the GPU\n",
        "        data, target = data.to(device), target.to(device)\n",
        "\n",
        "        optimizer.zero_grad()  # Zero the gradients\n",
        "        output = model(data)  # Forward pass\n",
        "\n",
        "        # Calculate the loss\n",
        "        loss = criterion(output, target)\n",
        "        loss.backward()  # Backpropagate the loss\n",
        "        optimizer.step()  # Update model weights\n",
        "\n",
        "        running_loss += loss.item()\n",
        "\n",
        "        # Calculate accuracy\n",
        "        _, predicted = output.max(1)\n",
        "        correct += predicted.eq(target).sum().item()\n",
        "        total += target.size(0)\n",
        "\n",
        "    # Average loss and accuracy\n",
        "    avg_loss = running_loss / len(train_loader)\n",
        "    accuracy = 100. * correct / total\n",
        "    return avg_loss, accuracy\n",
        "\n",
        "# Define the testing function\n",
        "def test(model, test_loader, criterion, device):\n",
        "    model.eval()\n"
      ],
      "metadata": {
        "id": "Vz69D4h_dahU",
        "colab": {
          "base_uri": "https://localhost:8080/",
          "height": 0
        },
        "outputId": "0067b481-9b14-4618-df2e-a2bee26ee6ec"
      },
      "execution_count": 35,
      "outputs": [
        {
          "output_type": "stream",
          "name": "stdout",
          "text": [
            "CNN(\n",
            "  (net): Sequential(\n",
            "    (0): Conv2d(1, 32, kernel_size=(3, 3), stride=(1, 1), padding=(1, 1))\n",
            "    (1): ReLU()\n",
            "    (2): Conv2d(32, 64, kernel_size=(3, 3), stride=(2, 2), padding=(1, 1))\n",
            "    (3): ReLU()\n",
            "    (4): Conv2d(64, 128, kernel_size=(3, 3), stride=(2, 2), padding=(1, 1))\n",
            "    (5): ReLU()\n",
            "    (6): AdaptiveMaxPool2d(output_size=1)\n",
            "  )\n",
            "  (head): Sequential(\n",
            "    (0): Linear(in_features=128, out_features=64, bias=True)\n",
            "    (1): ReLU()\n",
            "    (2): Linear(in_features=64, out_features=10, bias=True)\n",
            "  )\n",
            ")\n",
            "Model has 101,578 trainable parameters\n"
          ]
        }
      ]
    },
    {
      "cell_type": "markdown",
      "source": [
        "**Question 9**\n",
        "\n",
        "How do the CPU and GPU versions compare for the CNN? Is one faster than the other? Why do you think this is, and how does it differ from the MLP? Edit the cell below to answer."
      ],
      "metadata": {
        "id": "Nd3Lv1AKddG7"
      }
    },
    {
      "cell_type": "markdown",
      "source": [
        "Comparison of CPU and GPU Training for CNN\n",
        "Speed:\n",
        "\n",
        "GPU: Training on the GPU is significantly faster for CNNs compared to the CPU. GPUs are optimized for parallel computations, which aligns well with the matrix and tensor operations in convolutional layers. This allows the GPU to process multiple operations simultaneously.\n",
        "CPU: While modern CPUs are powerful, they are not designed for the same degree of parallelism as GPUs, making them slower for deep learning tasks, especially when processing large datasets or models.\n",
        "Reason for GPU's Superiority:\n",
        "\n",
        "CNNs use convolutional operations, which involve multiplying and summing matrices. These operations are highly parallelizable, and GPUs excel at handling such workloads due to their many cores and high memory bandwidth.\n",
        "Additionally, the larger the model or batch size, the more significant the GPU's advantage becomes.\n",
        "Comparison with MLP:\n",
        "\n",
        "MLP on GPU: While the GPU still offers speedups for MLPs, the difference may not be as pronounced compared to CNNs. This is because MLPs primarily involve matrix multiplications, which are also parallelizable but do not benefit as much from the spatial structure inherent in CNNs.\n",
        "CNN on GPU: CNNs benefit more from GPUs because of the computationally intensive nature of convolutions and pooling operations, which require processing multiple filters and image regions simultaneously.\n",
        "Performance Differences:\n",
        "\n",
        "For smaller models like MLPs or tasks with minimal data, the overhead of moving data between CPU and GPU memory can sometimes negate the GPU's speedup.\n",
        "For larger models like CNNs, the benefits of parallel processing on a GPU outweigh the data transfer overhead, making GPUs the clear choice for training."
      ],
      "metadata": {
        "id": "GsZLGgvYdo2L"
      }
    },
    {
      "cell_type": "markdown",
      "source": [
        "As a final comparison, you can profile the FLOPs (floating-point operations) executed by each model. You will use the thop.profile function for this and consider an MNIST batch size of 1."
      ],
      "metadata": {
        "id": "YPM7A8rNdqr7"
      }
    },
    {
      "cell_type": "code",
      "source": [
        "# the input shape of a MNIST sample with batch_size = 1\n",
        "input = torch.randn(1, 1, 28, 28)\n",
        "\n",
        "# create a copy of the models on the CPU\n",
        "mlp_model = MLP()\n",
        "cnn_model = CNN()\n",
        "\n",
        "# profile the MLP\n",
        "flops, params = thop.profile(mlp_model, inputs=(input, ), verbose=False)\n",
        "print(f\"MLP has {params:,} params and uses {flops:,} FLOPs\")\n",
        "\n",
        "# profile the CNN\n",
        "flops, params = thop.profile(cnn_model, inputs=(input, ), verbose=False)\n",
        "print(f\"CNN has {params:,} params and uses {flops:,} FLOPs\")"
      ],
      "metadata": {
        "id": "H2PiALplYywV",
        "colab": {
          "base_uri": "https://localhost:8080/",
          "height": 0
        },
        "outputId": "257a3f9a-9460-46b5-e280-75d9ad93ef4a"
      },
      "execution_count": 36,
      "outputs": [
        {
          "output_type": "stream",
          "name": "stdout",
          "text": [
            "MLP has 109,386.0 params and uses 109,184.0 FLOPs\n",
            "CNN has 101,578.0 params and uses 7,459,968.0 FLOPs\n"
          ]
        }
      ]
    },
    {
      "cell_type": "markdown",
      "source": [
        "**Question 10**\n",
        "\n",
        "Are these results what you would have expected? Do they explain the performance difference between running on the CPU and GPU? Why or why not? Edit the cell below to answer."
      ],
      "metadata": {
        "id": "lrnbL1fIe0Eg"
      }
    },
    {
      "cell_type": "markdown",
      "source": [
        "Analysis of Profiling Results:\n",
        "Parameters and FLOPs:\n",
        "\n",
        "MLP:\n",
        "Parameters: 109,386\n",
        "FLOPs: 109,184\n",
        "Observations: The MLP has slightly more parameters than the CNN, but it uses far fewer FLOPs. This is because MLPs rely on fully connected layers, which involve simpler matrix multiplications without considering spatial structures.\n",
        "CNN:\n",
        "Parameters: 101,578\n",
        "FLOPs: 7,459,968\n",
        "Observations: The CNN has fewer parameters but significantly more FLOPs. This is due to the computational demands of convolutional operations, which require processing multiple filters across the spatial dimensions of the input.\n",
        "Explanation of Results:\n",
        "\n",
        "CNNs require many more FLOPs than MLPs because convolutional layers involve sliding kernels over the input data, performing multiple multiplications and additions at each step. This explains why CNNs are computationally more intensive and benefit more from GPU acceleration.\n",
        "The MLP, with its fully connected layers, has less computational overhead but still benefits from parallelization to a smaller extent.\n",
        "Performance Difference on CPU and GPU:\n",
        "\n",
        "CPU: CPUs perform sequential or minimally parallel operations. While they handle the lighter computational workload of the MLP relatively well, they struggle with the heavy computational demands of the CNN.\n",
        "GPU: GPUs are optimized for highly parallel tasks, making them ideal for convolutional operations. The massive FLOPs required by the CNN can be processed in parallel, providing a significant speedup compared to the CPU.\n",
        "Expectations:\n",
        "\n",
        "Yes, these results align with expectations. The CNN's higher FLOPs requirement justifies its slower performance on the CPU and faster performance on the GPU.\n",
        "The MLP's lower FLOPs and simpler architecture explain why its performance difference between CPU and GPU is less pronounced."
      ],
      "metadata": {
        "id": "uWnlxMVjfDUe"
      }
    },
    {
      "cell_type": "code",
      "source": [],
      "metadata": {
        "id": "wdyi-xNlxrgC"
      },
      "execution_count": null,
      "outputs": []
    }
  ]
}